{
 "cells": [
  {
   "cell_type": "code",
   "execution_count": 2,
   "id": "5808b5ba-9c75-4dde-b16b-e95477fcdf1d",
   "metadata": {
    "tags": []
   },
   "outputs": [
    {
     "name": "stdout",
     "output_type": "stream",
     "text": [
      "Reading CSV file\n",
      "Extrating target data\n",
      "Updating target data and grouping by day\n",
      "          time_string  pressure  salinity  temperature   oxygen    Timestamp\n",
      "0 1999-05-05 12:48:21       1.0   30.1508       7.7017  7.06992  925908501.0\n",
      "1 1999-05-05 12:48:21       1.5   30.2376       7.3615  6.99755  925908501.0\n",
      "2 1999-05-05 12:48:21       2.0   30.0978       7.2588  6.62052  925908501.0\n",
      "3 1999-05-05 12:48:21       2.5   30.4275       6.5228  6.51778  925908501.0\n",
      "4 1999-05-05 12:48:21       3.0   31.0144       5.3546  6.73442  925908501.0\n"
     ]
    }
   ],
   "source": [
    "# Importing relevant modules\n",
    "import global_functions as gf\n",
    "import BBMP_data_functions as BBMP\n",
    "\n",
    "raw_bbmp_data = 'bbmp_aggregated_profiles.csv'\n",
    "target_variables = ['time_string','pressure','salinity','temperature','oxygen']\n",
    "\n",
    "nested_data = BBMP.get_and_group_data(raw_bbmp_data,target_variables)\n",
    "\n",
    "print(nested_data['Nested Groups'][list(nested_data['Nested Groups'].keys())[0]].head())"
   ]
  },
  {
   "cell_type": "code",
   "execution_count": 5,
   "id": "1c32043c-02da-48c6-88fa-49c1535c3f14",
   "metadata": {
    "tags": []
   },
   "outputs": [
    {
     "name": "stdout",
     "output_type": "stream",
     "text": [
      "Nomalizing depths and filling with NaN\n"
     ]
    }
   ],
   "source": [
    "normalized_data = BBMP.normalize_length_data(nested_data['Nested Groups'],nested_data['Unique Depths'])"
   ]
  },
  {
   "cell_type": "code",
   "execution_count": 11,
   "id": "57b292ce-f954-448d-b1c8-0e9f24bc3291",
   "metadata": {
    "tags": []
   },
   "outputs": [
    {
     "name": "stdout",
     "output_type": "stream",
     "text": [
      "  time_string  pressure  salinity  temperature  oxygen  Timestamp  \\\n",
      "0         NaT       NaN       NaN          NaN     NaN        NaN   \n",
      "1         NaT       NaN       NaN          NaN     NaN        NaN   \n",
      "2         NaT       NaN       NaN          NaN     NaN        NaN   \n",
      "3         NaT       NaN       NaN          NaN     NaN        NaN   \n",
      "4         NaT       NaN       NaN          NaN     NaN        NaN   \n",
      "\n",
      "                    0     1   2   3   4            5  \n",
      "0 1999-05-05 12:48:21  0.50 NaN NaN NaN  925908501.0  \n",
      "1 1999-05-05 12:48:21  1.25 NaN NaN NaN          NaN  \n",
      "2 1999-05-05 12:48:21  1.75 NaN NaN NaN          NaN  \n",
      "3 1999-05-05 12:48:21  2.25 NaN NaN NaN          NaN  \n",
      "4 1999-05-05 12:48:21  2.75 NaN NaN NaN          NaN  \n",
      "                         time_string    pressure    salinity  temperature  \\\n",
      "count                            128  128.000000  128.000000   128.000000   \n",
      "mean   1999-05-05 12:48:20.999999872   32.750000   30.757060     2.338381   \n",
      "min              1999-05-05 12:48:21    1.000000   30.097800     1.340200   \n",
      "25%              1999-05-05 12:48:21   16.875000   30.581975     1.404925   \n",
      "50%              1999-05-05 12:48:21   32.750000   30.789600     1.906050   \n",
      "75%              1999-05-05 12:48:21   48.625000   30.929250     2.828350   \n",
      "max              1999-05-05 12:48:21   64.500000   31.014400     7.701700   \n",
      "std                              NaN   18.547237    0.185667     1.282098   \n",
      "\n",
      "           oxygen    Timestamp                              0           1  \\\n",
      "count  126.000000        128.0                            148  148.000000   \n",
      "mean     6.221020  925908501.0  1999-05-05 12:48:20.999999744   37.532095   \n",
      "min      5.445270  925908501.0            1999-05-05 12:48:21    0.500000   \n",
      "25%      5.722775  925908501.0            1999-05-05 12:48:21   19.125000   \n",
      "50%      6.215285  925908501.0            1999-05-05 12:48:21   37.500000   \n",
      "75%      6.620242  925908501.0            1999-05-05 12:48:21   55.875000   \n",
      "max      7.334910  925908501.0            1999-05-05 12:48:21   74.500000   \n",
      "std      0.548456          0.0                            NaN   21.487820   \n",
      "\n",
      "         2    3    4            5  \n",
      "count  0.0  0.0  0.0          1.0  \n",
      "mean   NaN  NaN  NaN  925908501.0  \n",
      "min    NaN  NaN  NaN  925908501.0  \n",
      "25%    NaN  NaN  NaN  925908501.0  \n",
      "50%    NaN  NaN  NaN  925908501.0  \n",
      "75%    NaN  NaN  NaN  925908501.0  \n",
      "max    NaN  NaN  NaN  925908501.0  \n",
      "std    NaN  NaN  NaN          NaN  \n"
     ]
    }
   ],
   "source": [
    "print(nested_data['Nested Groups'][list(normalized_data['Normalized Data'].keys())[0]].head())\n",
    "print(nested_data['Nested Groups'][list(normalized_data['Normalized Data'].keys())[0]].describe())"
   ]
  },
  {
   "cell_type": "code",
   "execution_count": null,
   "id": "fa0c5a0b-ced9-4285-abd0-d18b8d04b1ab",
   "metadata": {},
   "outputs": [],
   "source": []
  }
 ],
 "metadata": {
  "kernelspec": {
   "display_name": "Python 3 (ipykernel)",
   "language": "python",
   "name": "python3"
  },
  "language_info": {
   "codemirror_mode": {
    "name": "ipython",
    "version": 3
   },
   "file_extension": ".py",
   "mimetype": "text/x-python",
   "name": "python",
   "nbconvert_exporter": "python",
   "pygments_lexer": "ipython3",
   "version": "3.11.7"
  }
 },
 "nbformat": 4,
 "nbformat_minor": 5
}
